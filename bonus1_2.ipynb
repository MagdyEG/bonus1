{
  "nbformat": 4,
  "nbformat_minor": 0,
  "metadata": {
    "colab": {
      "name": "bonus1.2.ipynb",
      "provenance": [],
      "collapsed_sections": [],
      "toc_visible": true
    },
    "kernelspec": {
      "name": "python3",
      "display_name": "Python 3"
    },
    "language_info": {
      "name": "python"
    }
  },
  "cells": [
    {
      "cell_type": "markdown",
      "source": [
        "Dear, Dr\n",
        "\n",
        " \n",
        "\n",
        "Offer a bonus solution from:\n",
        "\n",
        " \n",
        "\n",
        "1: Mohamed Magdy Mohamed Abdalkarem : 221101063\n",
        "\n",
        "2: Abdelrahman Fathy : 20070047 (CS2)\n",
        "\n",
        "3: Yossef Hanna Ramsis : 221101090 (CS2)\n",
        "\n",
        "4: Ahmed Mohamed Ahmed AbdElmoaty : 221101006\n",
        "\n",
        " \n",
        "\n",
        " \n",
        "\n",
        "Report:\n",
        "\n",
        "The first thing I made a list, then worked for loop from 2 to n-1, then if I bought it that n%i==0 i is the number that is being divided by it, if the number is accepted, the number is added to the list, then if another, if the number of numbers is greater than 0, it is returned  The numbers that are in the list, but if the condition is false, the number remains a prime number, and then there is a while to make sure that the number is an positive number."
      ],
      "metadata": {
        "id": "nnkIhbPj7ZgY"
      }
    },
    {
      "cell_type": "code",
      "source": [
        "def divisor(n):\n",
        "    array=[]\n",
        "    for i in range (2,n-1):\n",
        "        if n%i==0:\n",
        "            array.append(i)\n",
        "    if len(array)>0:\n",
        "        return ' the divisors of number ',n,' in the reverse order are ',array[::-1]\n",
        "    else:\n",
        "        return n,\" is a prime number \"\n",
        "n = eval(input(' enter the number you want to test: '))\n",
        "c=0\n",
        "while c<3 and n<=1:\n",
        "    n = eval(input(' please enter a positive number  '))\n",
        "    c+=1\n",
        "if n>1:\n",
        "    print(divisor(n))\n",
        "else :\n",
        "    print('Wrong number, ya bro')"
      ],
      "metadata": {
        "colab": {
          "base_uri": "https://localhost:8080/"
        },
        "id": "fzmp1KkM7bkQ",
        "outputId": "ad22cd91-7a26-45c0-a93b-dc285f5bcf07"
      },
      "execution_count": 1,
      "outputs": [
        {
          "output_type": "stream",
          "name": "stdout",
          "text": [
            " enter the number you want to test: 15\n",
            "(' the divisors of number ', 15, ' in the reverse order are ', [5, 3])\n"
          ]
        }
      ]
    }
  ]
}